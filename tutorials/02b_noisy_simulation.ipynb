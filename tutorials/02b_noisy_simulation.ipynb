{
 "cells": [
  {
   "cell_type": "markdown",
   "id": "bc4605fd-4b60-4fd8-a452-9e0fc5705120",
   "metadata": {},
   "source": [
    "### Setup the noisy simulator according to hardware calibration data"
   ]
  },
  {
   "cell_type": "code",
   "execution_count": 1,
   "id": "54bc13ca-7d07-43e6-938e-b2dc9f6de019",
   "metadata": {},
   "outputs": [
    {
     "name": "stderr",
     "output_type": "stream",
     "text": [
      "/var/folders/3t/7ts1c6s95hq650lfkvk66tkh0000gn/T/ipykernel_4920/655742877.py:5: DeprecationWarning: The \"ibm_quantum\" channel option is deprecated and will be sunset on 1 July. After this date, ibm_cloud will be the only valid channel. For information on migrating to the new IBM Quantum Platform on the \"ibm_cloud\" channel, review the migration guide https://quantum.cloud.ibm.com/docs/migration-guides/classic-iqp-to-cloud-iqp .\n",
      "  service = QiskitRuntimeService(channel=\"ibm_quantum\",\n"
     ]
    }
   ],
   "source": [
    "from qiskit_ibm_runtime import QiskitRuntimeService\n",
    "\n",
    "\n",
    "# get a real backend from the runtime service\n",
    "service = QiskitRuntimeService(channel=\"ibm_quantum\", \n",
    "                               token=\"eff90e8bee70d824d8e6c145072c95ec9ba28369fd0c8aa5b192380f5c7ffc207f64bab13f2ae8897269ecdfa88b1f288c4e58c57bdcf86ed8bd500257170657\", \n",
    "                               instance=\"ibm-q-ornl/ornl/csc509\")"
   ]
  },
  {
   "cell_type": "code",
   "execution_count": 2,
   "id": "427b4673-92e1-4d2f-9fc8-0a21ff992c0c",
   "metadata": {},
   "outputs": [
    {
     "data": {
      "text/plain": [
       "[<IBMBackend('ibm_strasbourg')>,\n",
       " <IBMBackend('ibm_sherbrooke')>,\n",
       " <IBMBackend('ibm_brussels')>,\n",
       " <IBMBackend('ibm_marrakesh')>,\n",
       " <IBMBackend('ibm_aachen')>,\n",
       " <IBMBackend('ibm_kingston')>,\n",
       " <IBMBackend('ibm_brisbane')>,\n",
       " <IBMBackend('ibm_torino')>,\n",
       " <IBMBackend('ibm_fez')>]"
      ]
     },
     "execution_count": 2,
     "metadata": {},
     "output_type": "execute_result"
    }
   ],
   "source": [
    "service.backends()"
   ]
  },
  {
   "cell_type": "markdown",
   "id": "88601686-370d-4fb4-9730-fa4bbe124689",
   "metadata": {},
   "source": [
    "Then, one can grab the desired backend."
   ]
  },
  {
   "cell_type": "code",
   "execution_count": 2,
   "id": "853beb23-b692-43db-9728-dbb74de2705d",
   "metadata": {},
   "outputs": [],
   "source": [
    "device = service.backend('ibm_fez')"
   ]
  },
  {
   "cell_type": "markdown",
   "id": "f403c441-d6d1-432f-9234-fcb7e8c6cb60",
   "metadata": {},
   "source": [
    "We can setup the noisy simulator by passing the backend properties to the aer simulator."
   ]
  },
  {
   "cell_type": "code",
   "execution_count": 3,
   "id": "cb107411-155f-4094-ba06-7a4e2b01a55b",
   "metadata": {},
   "outputs": [],
   "source": [
    "from qiskit_aer import AerSimulator\n",
    "\n",
    "backend_sim = AerSimulator.from_backend(device)"
   ]
  },
  {
   "cell_type": "markdown",
   "id": "3854d6f0-b2f2-4c15-89d0-d22e98a4b026",
   "metadata": {},
   "source": [
    "---"
   ]
  },
  {
   "cell_type": "code",
   "execution_count": 6,
   "id": "2db22144-4a17-478e-8f40-24e10fb32134",
   "metadata": {},
   "outputs": [
    {
     "name": "stdout",
     "output_type": "stream",
     "text": [
      "=================================== Simulation Start =============================================\n",
      "=================================== Simulate 0-th sample =========================================\n",
      "=========== New M3 calibration detected ===========\n",
      "=========== New M3 calibration detected ===========\n",
      "Quantum time for sampling: 10.916259050369263\n",
      "Post-processing time for getting the signs: 3.9344239234924316\n",
      "(0.7034727238789156+0j)\n",
      "HForest FakeIBMQ Fidelity: 0.9999571694159465\n",
      "Fidelity Upper Bound: 0.9999571694159465\n",
      "Qubits: 2 Layers:4 positive_count: 94.31613524219738%\n",
      "Qubits: 2 Layers:4 negative_count: 5.683864757802615%\n",
      "=================================== Simulation End =============================================\n"
     ]
    }
   ],
   "source": [
    "import time\n",
    "import numpy as np\n",
    "import random\n",
    "import dill as pickle\n",
    "\n",
    "import qiskit\n",
    "from qiskit.circuit.library import RealAmplitudes\n",
    "from qiskit_ibm_runtime import QiskitRuntimeService\n",
    "from qiskit.transpiler.preset_passmanagers import generate_preset_pass_manager\n",
    "from qiskit.quantum_info import Statevector, state_fidelity\n",
    "import hadamard_random_forest as hrf\n",
    "\n",
    "shots = 10000\n",
    "num_trees = 111\n",
    "num_qubits = 2\n",
    "num_layers = 4\n",
    "num_trials = 1\n",
    "fid_sv_list = []\n",
    "quantum_time_list = []\n",
    "post_time_list = []\n",
    "hf_sim = {}\n",
    "\n",
    "with open('params_0402.pkl', 'rb') as f:\n",
    "    loaded_param = pickle.load(f)\n",
    "\n",
    "hrf.fix_random_seed(999)\n",
    "print(\"=================================== Simulation Start =============================================\")\n",
    "for i in range(num_trials):\n",
    "    print(f\"=================================== Simulate {i}-th sample =========================================\")\n",
    "    ansatz = RealAmplitudes(num_qubits, entanglement='pairwise', reps=num_layers, skip_final_rotation_layer=True)\n",
    "    params = loaded_param['parameter'][(num_qubits, num_layers)][0]\n",
    "    list_circuits = hrf.get_circuits(num_qubits, ansatz)\n",
    "    \n",
    "    # record quantum time\n",
    "    start_time = time.time()\n",
    "    samples = hrf.get_samples_noisy(num_qubits, list_circuits, shots, params, backend_sim, error_mitigation=True)\n",
    "    end_time = time.time()\n",
    "    elapsed_time1 = end_time - start_time\n",
    "    print(\"Quantum time for sampling:\", elapsed_time1)\n",
    "    quantum_time_list.append(elapsed_time1)\n",
    "\n",
    "    # record post-processing time\n",
    "    start_time = time.time()\n",
    "    noisy_job_samp = hrf.get_statevector(num_qubits, num_trees, samples, save_tree=True)\n",
    "    end_time = time.time()\n",
    "    elapsed_time2 = end_time - start_time\n",
    "    print(\"Post-processing time for getting the signs:\", elapsed_time2)\n",
    "    post_time_list.append(elapsed_time2)\n",
    "    \n",
    "    noisy_job_samp = noisy_job_samp/np.linalg.norm(noisy_job_samp)\n",
    "\n",
    "    # Bind parameters\n",
    "    ansatz.assign_parameters(params, inplace=True)\n",
    "    statevector = Statevector(ansatz)\n",
    "    print(statevector[0])\n",
    "    \n",
    "    fid_noisy = state_fidelity(noisy_job_samp, statevector)\n",
    "    fid_sv_list.append(fid_noisy)\n",
    "    print(\"HForest FakeIBMQ Fidelity:\", fid_noisy)\n",
    "    print(\"Fidelity Upper Bound:\", state_fidelity(np.abs(noisy_job_samp), np.abs(statevector)))\n",
    "    negative_count = np.sum(statevector.data.real < 0)\n",
    "    print(f\"Qubits: {num_qubits} Layers:{ num_layers} positive_count: {100*np.sum(statevector.data.real[(statevector.data.real > 0)]**2)}%\")\n",
    "    print(f\"Qubits: {num_qubits} Layers:{ num_layers} negative_count: {100*np.sum(statevector.data.real[(statevector.data.real < 0)]**2)}%\")\n",
    "\n",
    "    # Store data\n",
    "    hf_sim.update({i:{\n",
    "        \"n_qubits\": num_qubits,\n",
    "        \"n_shots\": shots,\n",
    "        \"n_layers\": num_layers,\n",
    "        \"n_trees\": num_trees,\n",
    "        \"fid_state\": fid_noisy,\n",
    "        \"time_quanutm\": elapsed_time1,\n",
    "        \"time_postprocess\": elapsed_time2,\n",
    "        \"samples\": samples,\n",
    "        \"state\": statevector,\n",
    "        \"state_hardware\": noisy_job_samp,\n",
    "        \"fid_bound\": state_fidelity(np.abs(noisy_job_samp), np.abs(statevector)),\n",
    "        \"negative_count\": negative_count,\n",
    "        \"negative_percentage\": 100*np.sum(statevector.data.real[(statevector.data.real < 0)]**2)}})\n",
    "\n",
    "print(\"=================================== Simulation End =============================================\")"
   ]
  },
  {
   "cell_type": "code",
   "execution_count": null,
   "id": "ad3d4944-6d50-492d-b14f-c8fa1b93aa52",
   "metadata": {},
   "outputs": [],
   "source": [
    "import hadamard_random_forest as hrf\n",
    "\n",
    "hrf.seed_everything(999)\n",
    "tree, spanning = hrf.generate_hypercube_tree(num_qubits=5)\n",
    "samples = hrf.get_samples_noisy(\n",
    "    num_qubits=5,\n",
    "    sampler=my_sampler,\n",
    "    circuits=my_circuits,\n",
    "    shots=1024,\n",
    "    parameters=params,\n",
    "    backend_sim=my_backend,\n",
    "    error_mitigation=True\n",
    ")\n",
    "state = hrf.get_statevector(num_qubits=5, num_trees=20, samples=samples)"
   ]
  },
  {
   "cell_type": "code",
   "execution_count": 8,
   "id": "dcbaf1dc-a9b5-4879-8251-6473f717ebfc",
   "metadata": {},
   "outputs": [
    {
     "name": "stdout",
     "output_type": "stream",
     "text": [
      "Name: hadamard-random-forest\n",
      "Version: 0.1.0\n",
      "Summary: Hadamard Random Forest: real valued quantum state reconstruction\n",
      "Home-page: \n",
      "Author: Zhixin (Jack) Song\n",
      "Author-email: zsong300@gatech.edu\n",
      "License: \n",
      "Location: /Users/jacksong/Documents/GitHub/Quantum-HRF-Tomography\n",
      "Editable project location: /Users/jacksong/Documents/GitHub/Quantum-HRF-Tomography\n",
      "Requires: matplotlib, mthree, networkx, numpy, pygraphviz, qiskit, qiskit-aer, qiskit-experiments, qiskit-ibm-runtime, scipy, tqdm, treelib\n",
      "Required-by: \n"
     ]
    }
   ],
   "source": [
    "!pip show hadamard_random_forest"
   ]
  },
  {
   "cell_type": "code",
   "execution_count": null,
   "id": "5891c7c8-1b1c-4bd0-9527-101ff18aba88",
   "metadata": {},
   "outputs": [],
   "source": []
  }
 ],
 "metadata": {
  "kernelspec": {
   "display_name": "Python 3 (ipykernel)",
   "language": "python",
   "name": "python3"
  },
  "language_info": {
   "codemirror_mode": {
    "name": "ipython",
    "version": 3
   },
   "file_extension": ".py",
   "mimetype": "text/x-python",
   "name": "python",
   "nbconvert_exporter": "python",
   "pygments_lexer": "ipython3",
   "version": "3.10.14"
  }
 },
 "nbformat": 4,
 "nbformat_minor": 5
}
