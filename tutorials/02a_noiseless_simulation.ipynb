{
 "cells": [
  {
   "cell_type": "markdown",
   "id": "25d6499a-ad59-4671-b3fd-2e0cb7f921da",
   "metadata": {},
   "source": [
    "## Hadamard Random Forest (HRF)\n",
    "\n",
    "In this tutorial, we will go over the basic usage of HRF and run it on noiseless simulators.\n",
    "Given a $n$-qubit real valued quantum state \n",
    "$$\n",
    "\\ket{\\psi} = U_{\\text{prep.}} |0\\rangle^{\\otimes n} = \\sum_{j=0}^{2^n-1} \\psi_j\\ket{j},\n",
    "$$ \n",
    "where $U_{\\text{prep.}}$ is the unitary corresponding to the state preparation circuit and $\\psi_j=\\text{sgn}(\\psi_j)\\cdot|\\psi_j| \\in \\mathbb{R}$. The HRF method efficiently reconstructs the corresponding state vector by sampling $n+1$ circuits. $n$ circuits each attached with one Hadamard gate at the end to superpose the amplitudes and $1$ for sampling the amplitudes $|\\psi_j|$.\n",
    "\n",
    "Applying a Hadamard gate on the $(n-k-1)$-th qubit (ordering from top to down side of the quantum circuit) and sampling the output leads to a new amplitude vector $\\ket{\\psi^k}$, where the amplitudes $\\psi^k_{j}$ and $ \\psi^k_{j+2^k}$ contain the superposition of original amplitudes as\n",
    "$$\n",
    "\\psi^k_{j, j+2^k} = \\frac{1}{\\sqrt{2}}\\left(\\psi_j \\pm \\psi_{j+2^k}\\right).\n",
    "$$"
   ]
  },
  {
   "cell_type": "markdown",
   "id": "6ec59cf8-4a50-4968-b298-9f701746d0e5",
   "metadata": {},
   "source": [
    "### Setup the noiseless simulator"
   ]
  },
  {
   "cell_type": "code",
   "execution_count": 1,
   "id": "cb8e3e5a-2e61-4443-946d-a39e33c91c44",
   "metadata": {},
   "outputs": [],
   "source": [
    "from qiskit_aer.primitives import Sampler as Aer_Sampler\n",
    "\n",
    "sampler = Aer_Sampler()"
   ]
  },
  {
   "cell_type": "markdown",
   "id": "c265e180-dd2f-45b4-9e9d-925807ddc89c",
   "metadata": {},
   "source": [
    "### Circuit construction $U_{\\text{prep.}}$\n",
    "\n",
    "In this tutorial, we will use the `RealAmplitudes` ansatz that consists of layers of $R_y$ rotation gates and adjacent CNOT gates."
   ]
  },
  {
   "cell_type": "code",
   "execution_count": 2,
   "id": "1069d9bd-218d-43f6-b065-fa54e7f5104b",
   "metadata": {},
   "outputs": [],
   "source": [
    "import dill as pickle\n",
    "\n",
    "# Load pre-generated parameters\n",
    "with open('params.pkl', 'rb') as f:\n",
    "    loaded_param = pickle.load(f)"
   ]
  },
  {
   "cell_type": "code",
   "execution_count": null,
   "id": "20281b00-e7d5-4ea2-9678-361025af2364",
   "metadata": {},
   "outputs": [],
   "source": [
    "from qiskit.circuit.library import RealAmplitudes\n",
    "\n",
    "num_qubits = 3\n",
    "num_layers = 4\n",
    "ansatz = RealAmplitudes(num_qubits, entanglement='pairwise', reps=num_layers, skip_final_rotation_layer=True)\n",
    "params = loaded_param['parameter'][(num_qubits, num_layers)][0]  # contains 5 groups of parameters\n",
    "ansatz.assign_parameters(params, inplace=True)\n",
    "ansatz.decompose().draw(\"mpl\")"
   ]
  },
  {
   "cell_type": "code",
   "execution_count": null,
   "id": "a139237a-7045-4845-b0e0-e70600bc5846",
   "metadata": {},
   "outputs": [],
   "source": []
  },
  {
   "cell_type": "markdown",
   "id": "7c688216-6928-414b-bf6d-492c285ba197",
   "metadata": {},
   "source": [
    "### Runtime scaling"
   ]
  },
  {
   "cell_type": "code",
   "execution_count": null,
   "id": "ff3a080d-c511-4009-814b-26f9f838b33c",
   "metadata": {},
   "outputs": [],
   "source": []
  },
  {
   "cell_type": "code",
   "execution_count": null,
   "id": "272032d7-1f1a-4bc8-b16c-c01c0b860eb2",
   "metadata": {},
   "outputs": [],
   "source": []
  },
  {
   "cell_type": "markdown",
   "id": "a3be9539-a125-4cb6-8104-17afba88ed66",
   "metadata": {},
   "source": [
    "---"
   ]
  },
  {
   "cell_type": "markdown",
   "id": "22076fe3-a993-4bda-bea6-095b093cd43c",
   "metadata": {},
   "source": [
    "## Software info"
   ]
  },
  {
   "cell_type": "code",
   "execution_count": null,
   "id": "3c5e8c79-774f-4495-82e1-c950680be2dd",
   "metadata": {},
   "outputs": [],
   "source": [
    "import qiskit\n",
    "import qiskit_aer\n",
    "import qiskit_ibm_runtime\n",
    "import qiskit_experiments\n",
    "\n",
    "print(f'Qiskit: {qiskit.__version__}')\n",
    "print(f'Qiskit Aer: {qiskit_aer.__version__}')\n",
    "print(f'Qiskit IBM Runtime: {qiskit_ibm_runtime.__version__}')\n",
    "print(f'Qiskit Experiments: {qiskit_experiments.__version__}')"
   ]
  }
 ],
 "metadata": {
  "kernelspec": {
   "display_name": "Python 3 (ipykernel)",
   "language": "python",
   "name": "python3"
  },
  "language_info": {
   "codemirror_mode": {
    "name": "ipython",
    "version": 3
   },
   "file_extension": ".py",
   "mimetype": "text/x-python",
   "name": "python",
   "nbconvert_exporter": "python",
   "pygments_lexer": "ipython3",
   "version": "3.10.14"
  }
 },
 "nbformat": 4,
 "nbformat_minor": 5
}
