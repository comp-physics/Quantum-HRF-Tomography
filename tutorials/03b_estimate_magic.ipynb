{
 "cells": [
  {
   "cell_type": "markdown",
   "id": "5605ff14-46f0-4d5b-9ba6-9d378c4989d1",
   "metadata": {},
   "source": [
    "## Evalute the magic of real-valued quantum states\n",
    "\n",
    "Magic states are the resource that allows quantum computers to attain an advantage over classical computers. This resource consists in the deviation from a property called stabilizerness which in turn implies that stabilizer circuits can be efficiently simulated on a classical computer. \n",
    "\n",
    "In this notebook, we demonstarte how to meausre the magic of real-valued quantum states through $\\alpha$-Rényi Stabilizer Entropy (RSE) [1]\n",
    "$$\n",
    "M_\\alpha(|\\psi\\rangle)= \\frac{1}{1-\\alpha} \\log_2 \\left(\\sum_{\\sigma \\in \\mathcal{P}} 2^{-n}\\langle\\psi| \\sigma|\\psi\\rangle^{2 \\alpha}\\right), \\tag{1}\n",
    "$$\n",
    "where $\\alpha$ is the entropic index and $\\mathcal{P}$ is the set of $4^n$ Pauli strings.\n"
   ]
  },
  {
   "cell_type": "markdown",
   "id": "cec6fba0-0096-4d80-a5a2-4e90e398344a",
   "metadata": {},
   "source": []
  },
  {
   "cell_type": "code",
   "execution_count": null,
   "id": "6ae4732a-cef4-474c-b2b3-cad18c1ef0ee",
   "metadata": {},
   "outputs": [],
   "source": []
  },
  {
   "cell_type": "code",
   "execution_count": null,
   "id": "aa5db0ea-52f3-4b83-bf25-6ca72f8b01cb",
   "metadata": {},
   "outputs": [],
   "source": []
  },
  {
   "cell_type": "code",
   "execution_count": null,
   "id": "555262d8-7de8-4bb3-8b12-fb7e11b191c3",
   "metadata": {},
   "outputs": [],
   "source": []
  },
  {
   "cell_type": "markdown",
   "id": "8af23dfc-e16c-49fc-a863-ba29e60cf617",
   "metadata": {},
   "source": []
  },
  {
   "cell_type": "code",
   "execution_count": null,
   "id": "d361409f-860e-4320-b732-a788e32dcb7c",
   "metadata": {},
   "outputs": [],
   "source": []
  },
  {
   "cell_type": "code",
   "execution_count": null,
   "id": "10212fb5-f50b-4f30-90a5-49fca3150aac",
   "metadata": {},
   "outputs": [],
   "source": []
  },
  {
   "cell_type": "markdown",
   "id": "53a24d1e-1e7c-4823-bd94-ed11ddc2d0fe",
   "metadata": {},
   "source": []
  },
  {
   "cell_type": "code",
   "execution_count": null,
   "id": "85b6be04-fe5a-4099-9c17-b7593ca342b4",
   "metadata": {},
   "outputs": [],
   "source": []
  },
  {
   "cell_type": "code",
   "execution_count": null,
   "id": "f80c8a27-2a52-4740-8c91-86241afe4333",
   "metadata": {},
   "outputs": [],
   "source": []
  },
  {
   "cell_type": "markdown",
   "id": "b1938656-4e9b-47cb-9879-8c8bdb9904c9",
   "metadata": {},
   "source": [
    "## Reference\n",
    "\n",
    "[1] [Haug, Tobias, Soovin Lee, and M. S. Kim. \"Efficient quantum algorithms for stabilizer entropies.\" Physical Review Letters 132.24 (2024): 240602.](https://journals.aps.org/prl/abstract/10.1103/PhysRevLett.132.240602) "
   ]
  }
 ],
 "metadata": {
  "kernelspec": {
   "display_name": "Python 3 (ipykernel)",
   "language": "python",
   "name": "python3"
  },
  "language_info": {
   "codemirror_mode": {
    "name": "ipython",
    "version": 3
   },
   "file_extension": ".py",
   "mimetype": "text/x-python",
   "name": "python",
   "nbconvert_exporter": "python",
   "pygments_lexer": "ipython3",
   "version": "3.10.14"
  }
 },
 "nbformat": 4,
 "nbformat_minor": 5
}
