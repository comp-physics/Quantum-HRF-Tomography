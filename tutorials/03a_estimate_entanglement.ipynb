{
 "cells": [
  {
   "cell_type": "markdown",
   "id": "cc6cc520-0b35-4b4c-b35f-d585e167e775",
   "metadata": {},
   "source": [
    "## Evalute the entanglement of real-valued quantum states\n",
    "\n",
    "Negativity is a measure of quantum entanglement which is easy to compute if one already obtains the density matrix $\\rho$. It is a measure deriving from the PPT criterion for separability [1]. Directly compute negativity on quantum hardware is challenging since the partial transpose operation involved is non-physical, which could generate non-postive eigenvalues and hence not a CPTP map. \n",
    "\n",
    "The logarithmic negativity is defined as\n",
    "$$\n",
    "E_{\\text{N}}(\\rho) \\equiv \\log _2\\left\\|\\rho^{\\Gamma_A}\\right\\|_1,\n",
    "\\tag{1}\n",
    "$$\n",
    "where $\\rho^{\\Gamma_A}$ is the partial transpose of $\\rho$ with respect to subsystem $A$ and $\\|X\\|_1=\\operatorname{Tr}|X|=\\operatorname{Tr} \\sqrt{X^{\\dagger} X}$ is the trace norm or the sum of the singular values of the operator  $X$.\n"
   ]
  },
  {
   "cell_type": "markdown",
   "id": "d8bc1414-0569-49ed-bf25-c5452296b069",
   "metadata": {},
   "source": [
    "### Benchmark the entanglement meausre\n",
    "\n",
    "It is known that $E_{\\text{N}}(\\rho)=0$ for separable states $\\rho = \\rho_A \\otimes \\rho_B$. "
   ]
  },
  {
   "cell_type": "code",
   "execution_count": 3,
   "id": "bb7d11b2-68ee-4d44-82e0-d33c35046604",
   "metadata": {},
   "outputs": [
    {
     "name": "stdout",
     "output_type": "stream",
     "text": [
      "Logarithmic Negativity (exact) = 4.4847971053408774e-15\n"
     ]
    }
   ],
   "source": [
    "import numpy as np\n",
    "import hadamard_random_forest as hrf\n",
    "\n",
    "num_sysA = 2\n",
    "num_sysB = 3\n",
    "num_qubits = num_sysA + num_sysB\n",
    "psi1 = hrf.random_statevector(num_sysA)\n",
    "psi2 = hrf.random_statevector(num_sysB)\n",
    "sv = np.kron(psi1, psi2).reshape(2**(num_qubits),1)\n",
    "rho = sv @ sv.T.conj()\n",
    "\n",
    "LN = hrf.logarithmic_negativity(rho, num_sysA, num_qubits)\n",
    "print(\"Logarithmic Negativity (exact) =\", LN)"
   ]
  },
  {
   "cell_type": "markdown",
   "id": "a959e040-1936-46f3-8efc-af4f43d41cd3",
   "metadata": {},
   "source": [
    "For the Bell state $\\left|\\Phi^{+}\\right\\rangle = (|00\\rangle+|11\\rangle)/\\sqrt{2}$, one can verify $E_{\\text{N}}(\\left|\\Phi^{+}\\right\\rangle\\langle \\Phi^{+}|)=1$."
   ]
  },
  {
   "cell_type": "code",
   "execution_count": 4,
   "id": "eec8ffe0-b606-490c-9bc9-f4a51401ec06",
   "metadata": {},
   "outputs": [
    {
     "name": "stdout",
     "output_type": "stream",
     "text": [
      "Logarithmic Negativity (exact) = 0.9999999999999997\n"
     ]
    }
   ],
   "source": [
    "import numpy as np\n",
    "import hadamard_random_forest as hrf\n",
    "\n",
    "num_sysA = 1\n",
    "num_sysB = 1\n",
    "num_qubits = num_sysA + num_sysB\n",
    "sv = np.array([[1,0,0,1]]/np.sqrt(2)).reshape([4,1])\n",
    "rho = sv @ sv.T.conj()\n",
    "\n",
    "LN = hrf.logarithmic_negativity(rho, num_sysA, num_qubits)\n",
    "print(\"Logarithmic Negativity (exact) =\", LN)"
   ]
  },
  {
   "cell_type": "markdown",
   "id": "eb236933-ebc1-4233-b002-3eb816e94879",
   "metadata": {},
   "source": [
    "### Use HRF to estimate negativity"
   ]
  },
  {
   "cell_type": "code",
   "execution_count": null,
   "id": "4e2e900f-d996-4fb5-b259-32fba56e1974",
   "metadata": {},
   "outputs": [],
   "source": []
  },
  {
   "cell_type": "code",
   "execution_count": null,
   "id": "b9558a22-4bd0-4c87-b776-193cd0a18a14",
   "metadata": {},
   "outputs": [],
   "source": []
  },
  {
   "cell_type": "code",
   "execution_count": null,
   "id": "e8059915-ea72-48ee-b51b-5f2a4e84b651",
   "metadata": {},
   "outputs": [],
   "source": []
  },
  {
   "cell_type": "code",
   "execution_count": null,
   "id": "980e7a8e-ab41-4f0d-9e15-f590971c903d",
   "metadata": {},
   "outputs": [],
   "source": []
  },
  {
   "cell_type": "markdown",
   "id": "915277f9-d913-4809-b82e-60e7ec4bfc59",
   "metadata": {},
   "source": [
    "## Reference\n",
    "\n",
    "[1] [Życzkowski, Karol, et al. \"Volume of the set of separable states.\" Physical Review A 58.2 (1998): 883.](https://journals.aps.org/pra/abstract/10.1103/PhysRevA.58.883)"
   ]
  },
  {
   "cell_type": "markdown",
   "id": "3866d120-024d-4809-934f-d94772af4e08",
   "metadata": {},
   "source": [
    "---\n",
    "\n",
    "##"
   ]
  },
  {
   "cell_type": "code",
   "execution_count": null,
   "id": "b56946c6-13a3-483c-b985-52f670ea28a4",
   "metadata": {},
   "outputs": [],
   "source": []
  }
 ],
 "metadata": {
  "kernelspec": {
   "display_name": "Python 3 (ipykernel)",
   "language": "python",
   "name": "python3"
  },
  "language_info": {
   "codemirror_mode": {
    "name": "ipython",
    "version": 3
   },
   "file_extension": ".py",
   "mimetype": "text/x-python",
   "name": "python",
   "nbconvert_exporter": "python",
   "pygments_lexer": "ipython3",
   "version": "3.10.14"
  }
 },
 "nbformat": 4,
 "nbformat_minor": 5
}
