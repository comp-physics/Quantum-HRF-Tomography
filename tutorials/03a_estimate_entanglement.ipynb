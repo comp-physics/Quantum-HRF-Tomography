{
 "cells": [
  {
   "cell_type": "markdown",
   "id": "cc6cc520-0b35-4b4c-b35f-d585e167e775",
   "metadata": {},
   "source": [
    "## Evalute the entanglement of real-valued quantum states\n",
    "\n",
    "Negativity is a measure of quantum entanglement which is easy to compute if one already obtains the density matrix $\\rho$. It is a measure deriving from the PPT criterion for separability [1]. Directly compute negativity on quantum hardware is challenging since the partial transpose operation involved is non-physical, which could generate non-postive eigenvalues and hence not a CPTP map. \n",
    "\n",
    "The logarithmic negativity is defined as\n",
    "$$\n",
    "E_{\\text{N}}(\\rho) \\equiv \\log _2\\left\\|\\rho^{\\Gamma_A}\\right\\|_1,\n",
    "\\tag{1}\n",
    "$$\n",
    "where $\\rho^{\\Gamma_A}$ is the partial transpose of $\\rho$ with respect to subsystem $A$ and $\\|X\\|_1=\\operatorname{Tr}|X|=\\operatorname{Tr} \\sqrt{X^{\\dagger} X}$ is the trace norm or the sum of the singular values of the operator  $X$.\n"
   ]
  },
  {
   "cell_type": "markdown",
   "id": "d8bc1414-0569-49ed-bf25-c5452296b069",
   "metadata": {},
   "source": [
    "### Benchmark the entanglement meausre\n",
    "\n",
    "It is known that $E_{\\text{N}}(\\rho)=0$ for separable states $\\rho = \\rho_A \\otimes \\rho_B$. "
   ]
  },
  {
   "cell_type": "code",
   "execution_count": 3,
   "id": "bb7d11b2-68ee-4d44-82e0-d33c35046604",
   "metadata": {},
   "outputs": [
    {
     "name": "stdout",
     "output_type": "stream",
     "text": [
      "Logarithmic Negativity (exact) = 4.4847971053408774e-15\n"
     ]
    }
   ],
   "source": [
    "import numpy as np\n",
    "import hadamard_random_forest as hrf\n",
    "\n",
    "num_sysA = 2\n",
    "num_sysB = 3\n",
    "num_qubits = num_sysA + num_sysB\n",
    "psi1 = hrf.random_statevector(num_sysA)\n",
    "psi2 = hrf.random_statevector(num_sysB)\n",
    "sv = np.kron(psi1, psi2).reshape(2**(num_qubits),1)\n",
    "rho = sv @ sv.T.conj()\n",
    "\n",
    "LN = hrf.logarithmic_negativity(rho, num_sysA, num_qubits)\n",
    "print(\"Logarithmic Negativity (exact) =\", LN)"
   ]
  },
  {
   "cell_type": "markdown",
   "id": "a959e040-1936-46f3-8efc-af4f43d41cd3",
   "metadata": {},
   "source": [
    "For the Bell state $\\left|\\Phi^{+}\\right\\rangle = (|00\\rangle+|11\\rangle)/\\sqrt{2}$, one can verify $E_{\\text{N}}(\\left|\\Phi^{+}\\right\\rangle\\langle \\Phi^{+}|)=1$."
   ]
  },
  {
   "cell_type": "code",
   "execution_count": 4,
   "id": "eec8ffe0-b606-490c-9bc9-f4a51401ec06",
   "metadata": {},
   "outputs": [
    {
     "name": "stdout",
     "output_type": "stream",
     "text": [
      "Logarithmic Negativity (exact) = 0.9999999999999997\n"
     ]
    }
   ],
   "source": [
    "import numpy as np\n",
    "import hadamard_random_forest as hrf\n",
    "\n",
    "num_sysA = 1\n",
    "num_sysB = 1\n",
    "num_qubits = num_sysA + num_sysB\n",
    "sv = np.array([[1,0,0,1]]/np.sqrt(2)).reshape([4,1])\n",
    "rho = sv @ sv.T.conj()\n",
    "\n",
    "LN = hrf.logarithmic_negativity(rho, num_sysA, num_qubits)\n",
    "print(\"Logarithmic Negativity (exact) =\", LN)"
   ]
  },
  {
   "cell_type": "markdown",
   "id": "eb236933-ebc1-4233-b002-3eb816e94879",
   "metadata": {},
   "source": [
    "### Use HRF to estimate negativity"
   ]
  },
  {
   "cell_type": "code",
   "execution_count": 8,
   "id": "b9558a22-4bd0-4c87-b776-193cd0a18a14",
   "metadata": {},
   "outputs": [],
   "source": [
    "from qiskit_aer import AerSimulator\n",
    "from qiskit_ibm_runtime.fake_provider import FakeFez\n",
    "\n",
    "backend_sim = AerSimulator.from_backend(FakeFez())"
   ]
  },
  {
   "cell_type": "code",
   "execution_count": 10,
   "id": "4e2e900f-d996-4fb5-b259-32fba56e1974",
   "metadata": {},
   "outputs": [],
   "source": [
    "import dill as pickle\n",
    "\n",
    "# Load pre-generated parameters\n",
    "with open('params.pkl', 'rb') as f:\n",
    "    loaded_param = pickle.load(f)"
   ]
  },
  {
   "cell_type": "code",
   "execution_count": 19,
   "id": "e8059915-ea72-48ee-b51b-5f2a4e84b651",
   "metadata": {},
   "outputs": [
    {
     "name": "stdout",
     "output_type": "stream",
     "text": [
      "=================================== Simulate 2-qubit =========================================\n",
      "Logarithmic Negativity (exact) = 0.4607085373250065\n",
      "Logarithmic Negativity (HRF) = 0.5037943745848781\n",
      "=================================== Simulate 4-qubit =========================================\n",
      "Logarithmic Negativity (exact) = 0.844756958281152\n",
      "Logarithmic Negativity (HRF) = 0.8540890214338566\n",
      "=================================== Simulate 6-qubit =========================================\n",
      "Logarithmic Negativity (exact) = 1.6779210392164574\n",
      "Logarithmic Negativity (HRF) = 1.6878049433906073\n",
      "=================================== Simulate 8-qubit =========================================\n",
      "Logarithmic Negativity (exact) = 2.297051063765075\n",
      "Logarithmic Negativity (HRF) = 2.370611767843103\n"
     ]
    }
   ],
   "source": [
    "import math\n",
    "from qiskit.circuit.library import RealAmplitudes\n",
    "from qiskit.quantum_info import Statevector, state_fidelity, DensityMatrix\n",
    "import hadamard_random_forest as hrf\n",
    "\n",
    "shots = 100000\n",
    "num_layers = 4\n",
    "num_trees = 111\n",
    "\n",
    "# Fix random seed\n",
    "hrf.fix_random_seed(999)\n",
    "\n",
    "for num_qubits in range(2, 9, 2):\n",
    "    print(f\"=================================== Simulate {num_qubits}-qubit =========================================\")\n",
    "    ansatz = RealAmplitudes(num_qubits, entanglement='pairwise', reps=num_layers, insert_barriers=True, skip_final_rotation_layer=True)\n",
    "    params = loaded_param['parameter'][(num_qubits, num_layers)][0] \n",
    "    list_circuits = hrf.get_circuits(num_qubits, ansatz)\n",
    "\n",
    "    # Collect samples\n",
    "    samples = hrf.get_samples_noisy(num_qubits, list_circuits, shots, params, backend_sim, error_mitigation=True)\n",
    "\n",
    "    # Reconstruct the satatevector\n",
    "    statevector_approx = hrf.get_statevector(num_qubits, num_trees, samples, save_tree=False, show_tree=False)\n",
    "    rho_approx = DensityMatrix(statevector_approx)\n",
    "\n",
    "    # Evaluate circuit and recover the exact statevector\n",
    "    ansatz.assign_parameters(params, inplace=True)\n",
    "    rho = DensityMatrix(ansatz)\n",
    "\n",
    "    # Calculate Stabilizer Entropy\n",
    "    LN = hrf.logarithmic_negativity(rho, num_sysA=math.ceil(num_qubits / 2), num_qubits=num_qubits)\n",
    "    LN_approx = hrf.logarithmic_negativity(rho_approx, num_sysA=math.ceil(num_qubits / 2), num_qubits=num_qubits)\n",
    "    print(\"Logarithmic Negativity (exact) =\", LN)\n",
    "    print(\"Logarithmic Negativity (HRF) =\", LN_approx)"
   ]
  },
  {
   "cell_type": "markdown",
   "id": "915277f9-d913-4809-b82e-60e7ec4bfc59",
   "metadata": {},
   "source": [
    "## Reference\n",
    "\n",
    "[1] [Życzkowski, Karol, et al. \"Volume of the set of separable states.\" Physical Review A 58.2 (1998): 883.](https://journals.aps.org/pra/abstract/10.1103/PhysRevA.58.883)"
   ]
  },
  {
   "cell_type": "markdown",
   "id": "3866d120-024d-4809-934f-d94772af4e08",
   "metadata": {},
   "source": [
    "---\n",
    "\n",
    "## Software info"
   ]
  },
  {
   "cell_type": "code",
   "execution_count": 7,
   "id": "b56946c6-13a3-483c-b985-52f670ea28a4",
   "metadata": {},
   "outputs": [
    {
     "name": "stdout",
     "output_type": "stream",
     "text": [
      "Qiskit: 2.0.0\n",
      "Qiskit Aer: 0.17.0\n",
      "Mthree error mitigation: 3.0.0\n"
     ]
    }
   ],
   "source": [
    "import qiskit\n",
    "import qiskit_aer\n",
    "import qiskit_ibm_runtime\n",
    "import mthree\n",
    "\n",
    "print(f'Qiskit: {qiskit.__version__}')\n",
    "print(f'Qiskit Aer: {qiskit_aer.__version__}')\n",
    "print(f'Qiskit IBM Runtime: {qiskit_ibm_runtime.__version__}')\n",
    "print(f'Mthree error mitigation: {mthree.__version__}')"
   ]
  },
  {
   "cell_type": "code",
   "execution_count": null,
   "id": "bab4319a-796e-427e-97f4-35aeb8a426ca",
   "metadata": {},
   "outputs": [],
   "source": []
  }
 ],
 "metadata": {
  "kernelspec": {
   "display_name": "Python 3 (ipykernel)",
   "language": "python",
   "name": "python3"
  },
  "language_info": {
   "codemirror_mode": {
    "name": "ipython",
    "version": 3
   },
   "file_extension": ".py",
   "mimetype": "text/x-python",
   "name": "python",
   "nbconvert_exporter": "python",
   "pygments_lexer": "ipython3",
   "version": "3.10.14"
  }
 },
 "nbformat": 4,
 "nbformat_minor": 5
}
