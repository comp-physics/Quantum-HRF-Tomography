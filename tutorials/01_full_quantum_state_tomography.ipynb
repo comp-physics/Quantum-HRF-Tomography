{
 "cells": [
  {
   "cell_type": "markdown",
   "id": "072e8a96-53c4-44ba-8b3c-897f91961e64",
   "metadata": {},
   "source": [
    "## Quantum State Tomography (QST)\n",
    "\n",
    "\n",
    "QST reconstrcut the $n$-qubit density matrix $\\rho$ as,\n",
    "$$\n",
    "\\rho=\\frac{1}{2^n} \\sum_{i, j,\\ldots \\ell=0}^3 c_{i j \\ldots \\ell} \\sigma_i^{(1)} \\otimes \\sigma_j^{(2)} \\ldots \\otimes \\sigma_\\ell^{(n)},\n",
    "$$\n",
    "where $c_{i j \\ldots \\ell} \\in \\mathbb{C}$ and each $\\sigma \\in \\{\\sigma_x, \\sigma_y, \\sigma_z\\}$.\n",
    "Here, we demonstrate how to briefly use `qiskit-experiments` package to implement QST with  and without measurement error mitigation.\n",
    "For more details about API and the package itself, please refer to [here](https://qiskit-community.github.io/qiskit-experiments/manuals/verification/state_tomography.html)."
   ]
  },
  {
   "cell_type": "code",
   "execution_count": null,
   "id": "de8ba15a-71a2-4078-ae0a-2108af0ac487",
   "metadata": {},
   "outputs": [],
   "source": []
  },
  {
   "cell_type": "code",
   "execution_count": null,
   "id": "9791fee6-8780-4ac4-8d55-f7f1f8540e4e",
   "metadata": {},
   "outputs": [],
   "source": []
  },
  {
   "cell_type": "code",
   "execution_count": null,
   "id": "f1cfec28-6c71-4257-a979-4abaec8f358a",
   "metadata": {},
   "outputs": [],
   "source": []
  },
  {
   "cell_type": "markdown",
   "id": "2300a54c-b2bb-4da7-a8a5-25716515c1bf",
   "metadata": {},
   "source": [
    "### Prohibited usage 🚫"
   ]
  },
  {
   "cell_type": "code",
   "execution_count": null,
   "id": "4806847e-7c12-48aa-9557-1a4d270b29a5",
   "metadata": {},
   "outputs": [],
   "source": []
  },
  {
   "cell_type": "code",
   "execution_count": null,
   "id": "66e7e91c-9a38-47b1-bf11-f9cdcb640eb1",
   "metadata": {},
   "outputs": [],
   "source": []
  },
  {
   "cell_type": "markdown",
   "id": "673c24ce-122a-437a-943c-eeb556045ecc",
   "metadata": {},
   "source": [
    "## Runtime scaling"
   ]
  },
  {
   "cell_type": "code",
   "execution_count": null,
   "id": "9ca855ff-c488-47e8-b513-de46d0855de9",
   "metadata": {},
   "outputs": [],
   "source": []
  },
  {
   "cell_type": "code",
   "execution_count": null,
   "id": "4d3b0f12-d085-4ef3-929d-33718f092c4b",
   "metadata": {},
   "outputs": [],
   "source": []
  },
  {
   "cell_type": "markdown",
   "id": "5252fdc7-56eb-49d4-96f4-1968ce37d6e8",
   "metadata": {},
   "source": [
    "---\n"
   ]
  },
  {
   "cell_type": "markdown",
   "id": "f10cdc60-1a17-47f5-9618-7cca2000b15d",
   "metadata": {},
   "source": [
    "## Software info"
   ]
  },
  {
   "cell_type": "code",
   "execution_count": 1,
   "id": "d05de005-d15b-401b-a9af-8f736476058c",
   "metadata": {},
   "outputs": [
    {
     "name": "stdout",
     "output_type": "stream",
     "text": [
      "Qiskit: 2.0.0\n",
      "Qiskit-Experiments: 0.10.0\n"
     ]
    }
   ],
   "source": [
    "import qiskit\n",
    "import qiskit_experiments\n",
    "\n",
    "print(f'Qiskit: {qiskit.__version__}')\n",
    "print(f'Qiskit-Experiments: {qiskit_experiments.__version__}')"
   ]
  }
 ],
 "metadata": {
  "kernelspec": {
   "display_name": "Python 3 (ipykernel)",
   "language": "python",
   "name": "python3"
  },
  "language_info": {
   "codemirror_mode": {
    "name": "ipython",
    "version": 3
   },
   "file_extension": ".py",
   "mimetype": "text/x-python",
   "name": "python",
   "nbconvert_exporter": "python",
   "pygments_lexer": "ipython3",
   "version": "3.10.14"
  }
 },
 "nbformat": 4,
 "nbformat_minor": 5
}
