{
 "cells": [
  {
   "cell_type": "markdown",
   "id": "072e8a96-53c4-44ba-8b3c-897f91961e64",
   "metadata": {},
   "source": [
    "## Quantum State Tomography (QST)\n",
    "\n",
    "\n",
    "QST reconstrcut the $n$-qubit density matrix $\\rho$ as,\n",
    "$$\n",
    "\\rho=\\frac{1}{2^n} \\sum_{i, j,\\ldots \\ell=0}^3 c_{i j \\ldots \\ell} \\sigma_i^{(1)} \\otimes \\sigma_j^{(2)} \\ldots \\otimes \\sigma_\\ell^{(n)},\n",
    "$$\n",
    "where $c_{i j \\ldots \\ell} \\in \\mathbb{C}$ and each $\\sigma \\in \\{\\sigma_x, \\sigma_y, \\sigma_z\\}$.\n",
    "Here, we demonstrate how to briefly use `qiskit-experiments` package to implement QST with  and without measurement error mitigation.\n",
    "For more details about API and the package itself, please refer to [here](https://qiskit-community.github.io/qiskit-experiments/manuals/verification/state_tomography.html)."
   ]
  },
  {
   "cell_type": "markdown",
   "id": "009a9e72-651b-49a4-9982-06c2734848ee",
   "metadata": {},
   "source": [
    "### Setup the backend"
   ]
  },
  {
   "cell_type": "code",
   "execution_count": null,
   "id": "abd26510-68a0-43ad-a07e-7d24773769b5",
   "metadata": {},
   "outputs": [],
   "source": [
    "%%capture\n",
    "from qiskit_ibm_runtime import QiskitRuntimeService\n",
    "\n",
    "# Get a real backend from the runtime service\n",
    "service = QiskitRuntimeService('YOUR_API_TOKEN')\n",
    "\n",
    "device = service.backend('ibm_fez')"
   ]
  },
  {
   "cell_type": "markdown",
   "id": "fc32c9fd-4c2d-4b38-9f15-ef2b56ec1f58",
   "metadata": {},
   "source": [
    "If you don't have access to the hardware, please use the following fake backend that mimics the real hardware with past calibration data."
   ]
  },
  {
   "cell_type": "code",
   "execution_count": 1,
   "id": "f085e335-180e-4956-aabe-e7f4f1ce48ab",
   "metadata": {},
   "outputs": [],
   "source": [
    "from qiskit_aer import AerSimulator\n",
    "from qiskit_ibm_runtime.fake_provider import FakeFez\n",
    "\n",
    "noiseless_backend = AerSimulator()  # if don't want hardware noise\n",
    "backend = AerSimulator.from_backend(FakeFez())"
   ]
  },
  {
   "cell_type": "markdown",
   "id": "46362d18-b004-43cc-997a-a00ec42e4ff4",
   "metadata": {},
   "source": [
    "### Circuit construction\n",
    "\n",
    "In this tutorial, we will use the `RealAmplitudes` ansatz that consists of layers of $R_y$ rotation gates and adjacent CNOT gates."
   ]
  },
  {
   "cell_type": "code",
   "execution_count": 2,
   "id": "8d02f60a-083e-43ad-a40f-52772f864c1b",
   "metadata": {},
   "outputs": [],
   "source": [
    "import dill as pickle\n",
    "\n",
    "# Load pre-generated parameters\n",
    "with open('params.pkl', 'rb') as f:\n",
    "    loaded_param = pickle.load(f)"
   ]
  },
  {
   "cell_type": "code",
   "execution_count": 3,
   "id": "f2bdfcf6-c515-417c-9402-c1fdd231e060",
   "metadata": {},
   "outputs": [
    {
     "data": {
      "image/png": "[encoded data removed]",
      "text/plain": [
       "<Figure size 1123.61x284.278 with 1 Axes>"
      ]
     },
     "execution_count": 3,
     "metadata": {},
     "output_type": "execute_result"
    }
   ],
   "source": [
    "from qiskit.circuit.library import RealAmplitudes\n",
    "\n",
    "num_qubits = 3\n",
    "num_layers = 4\n",
    "ansatz = RealAmplitudes(num_qubits, entanglement='pairwise', reps=num_layers, skip_final_rotation_layer=True)\n",
    "params = loaded_param['parameter'][(num_qubits, num_layers)][0]  # contains 5 groups of parameters\n",
    "ansatz.assign_parameters(params, inplace=True)\n",
    "ansatz.decompose().draw(\"mpl\")"
   ]
  },
  {
   "cell_type": "markdown",
   "id": "25d9196c-b8c7-416f-aa7d-47100a218147",
   "metadata": {},
   "source": [
    "### QST without error mitigation"
   ]
  },
  {
   "cell_type": "code",
   "execution_count": 5,
   "id": "79264992-f5f0-45ed-8c52-c082be896733",
   "metadata": {},
   "outputs": [],
   "source": [
    "from qiskit_experiments.library import StateTomography\n",
    "\n",
    "# Set number of experiment shots\n",
    "shots = 10000\n",
    "\n",
    "# QST Experiment\n",
    "qstexp = StateTomography(ansatz)     #! DO NOT Transpile the circuit here\n",
    "qstexp.set_run_options(shots=shots)\n",
    "qstdata = qstexp.run(backend, seed_simulation=999).block_for_results()\n",
    "\n",
    "# Turn on 'physical_qubits' to force the qubit mapping\n",
    "# qstdata = qstexp.run(backend, physical_qubits=[141,142,143],seed_simulation=999).block_for_results()"
   ]
  },
  {
   "cell_type": "code",
   "execution_count": null,
   "id": "3f5eee60-cbaf-4e90-95de-d326debc75f3",
   "metadata": {},
   "outputs": [],
   "source": [
    "# Fidelity of state reconstruction\n",
    "fid_result = qstdata.analysis_results(\"state_fidelity\", dataframe=True).iloc[0]\n",
    "print(\"State Fidelity = {:.5f}\".format(fid_result.value))"
   ]
  },
  {
   "cell_type": "code",
   "execution_count": null,
   "id": "26608479-17d8-4f4f-8157-96c59c13f83a",
   "metadata": {},
   "outputs": [],
   "source": [
    "# Visualize the state\n",
    "from qiskit.visualization import plot_state_city\n",
    "\n",
    "state = qstdata.analysis_results(\"state\", dataframe=True).iloc[0].value\n",
    "plot_state_city(state, title='Density Matrix')"
   ]
  },
  {
   "cell_type": "markdown",
   "id": "e5f1bf40-6eec-4ff6-bedb-534ed93eded2",
   "metadata": {},
   "source": [
    "### QST with error mitigation\n",
    "\n",
    "The measurement error mitigation is realized through `mthree` calibrations. Read [here](https://qiskit.github.io/qiskit-addon-mthree/) for more details."
   ]
  },
  {
   "cell_type": "code",
   "execution_count": null,
   "id": "9791fee6-8780-4ac4-8d55-f7f1f8540e4e",
   "metadata": {},
   "outputs": [],
   "source": [
    "from qiskit_experiments.library import MitigatedStateTomography\n",
    "\n",
    "# Set number of experiment shots\n",
    "shots = 10000\n",
    "\n",
    "# Error Mitigated QST Experiment\n",
    "mitqstexp = MitigatedStateTomography(ansatz)\n",
    "mitqstexp.set_run_options(shots=shots)\n",
    "mitqstdata = mitqstexp.run(backend, seed_simulation=999).block_for_results()"
   ]
  },
  {
   "cell_type": "code",
   "execution_count": null,
   "id": "f1cfec28-6c71-4257-a979-4abaec8f358a",
   "metadata": {},
   "outputs": [],
   "source": [
    "# Fidelity of error mitigated state reconstruction\n",
    "mit_fid_result = mitqstdata.analysis_results(\"state_fidelity\", dataframe=True).iloc[0]\n",
    "print(\"State Fidelity (mitigated) = {:.5f}\".format(mit_fid_result.value))\n",
    "print(\"State Fidelity (raw) = {:.5f}\".format(fid_result.value))"
   ]
  },
  {
   "cell_type": "code",
   "execution_count": null,
   "id": "f0ced2b8-e805-47ea-bd1c-62605ff8d642",
   "metadata": {},
   "outputs": [],
   "source": [
    "# Visualize the state\n",
    "from qiskit.visualization import plot_state_city\n",
    "\n",
    "mit_state = mitqstdata.analysis_results(\"state\", dataframe=True).iloc[0].value\n",
    "plot_state_city(mit_state, title='Error Mitigated Density Matrix')"
   ]
  },
  {
   "cell_type": "markdown",
   "id": "673c24ce-122a-437a-943c-eeb556045ecc",
   "metadata": {},
   "source": [
    "### Runtime scaling"
   ]
  },
  {
   "cell_type": "code",
   "execution_count": null,
   "id": "9ca855ff-c488-47e8-b513-de46d0855de9",
   "metadata": {},
   "outputs": [],
   "source": []
  },
  {
   "cell_type": "code",
   "execution_count": null,
   "id": "4d3b0f12-d085-4ef3-929d-33718f092c4b",
   "metadata": {},
   "outputs": [],
   "source": []
  },
  {
   "cell_type": "markdown",
   "id": "5252fdc7-56eb-49d4-96f4-1968ce37d6e8",
   "metadata": {},
   "source": [
    "---\n"
   ]
  },
  {
   "cell_type": "markdown",
   "id": "f10cdc60-1a17-47f5-9618-7cca2000b15d",
   "metadata": {},
   "source": [
    "## Software info"
   ]
  },
  {
   "cell_type": "code",
   "execution_count": 4,
   "id": "d05de005-d15b-401b-a9af-8f736476058c",
   "metadata": {},
   "outputs": [
    {
     "name": "stdout",
     "output_type": "stream",
     "text": [
      "Qiskit: 2.0.0\n",
      "Qiskit Aer: 0.17.0\n",
      "Qiskit IBM Runtime: 0.38.0\n",
      "Qiskit Experiments: 0.10.0\n"
     ]
    }
   ],
   "source": [
    "import qiskit\n",
    "import qiskit_aer\n",
    "import qiskit_ibm_runtime\n",
    "import qiskit_experiments\n",
    "\n",
    "print(f'Qiskit: {qiskit.__version__}')\n",
    "print(f'Qiskit Aer: {qiskit_aer.__version__}')\n",
    "print(f'Qiskit IBM Runtime: {qiskit_ibm_runtime.__version__}')\n",
    "print(f'Qiskit Experiments: {qiskit_experiments.__version__}')"
   ]
  }
 ],
 "metadata": {
  "kernelspec": {
   "display_name": "Python 3 (ipykernel)",
   "language": "python",
   "name": "python3"
  },
  "language_info": {
   "codemirror_mode": {
    "name": "ipython",
    "version": 3
   },
   "file_extension": ".py",
   "mimetype": "text/x-python",
   "name": "python",
   "nbconvert_exporter": "python",
   "pygments_lexer": "ipython3",
   "version": "3.10.14"
  }
 },
 "nbformat": 4,
 "nbformat_minor": 5
}
